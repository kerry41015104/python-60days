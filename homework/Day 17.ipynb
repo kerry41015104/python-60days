{
 "cells": [
  {
   "cell_type": "code",
   "execution_count": 1,
   "id": "recognized-falls",
   "metadata": {},
   "outputs": [],
   "source": [
    "問:在速度較慢的時候，可以先從哪邊開始檢查?\n",
    "\n",
    "答:更改文件格式，pkl最快；xlsx最慢。使用pandas內建函數。\n",
    "\n",
    "問:資料過大時應採取什麼方式讓記憶體占用量下降?!\n",
    "\n",
    "答:更改數值型態，例如float64=>float32；int64=>int32"
   ]
  }
 ],
 "metadata": {
  "kernelspec": {
   "display_name": "Python 3",
   "language": "python",
   "name": "python3"
  },
  "language_info": {
   "codemirror_mode": {
    "name": "ipython",
    "version": 3
   },
   "file_extension": ".py",
   "mimetype": "text/x-python",
   "name": "python",
   "nbconvert_exporter": "python",
   "pygments_lexer": "ipython3",
   "version": "3.9.0"
  }
 },
 "nbformat": 4,
 "nbformat_minor": 5
}
