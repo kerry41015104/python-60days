{
 "cells": [
  {
   "cell_type": "code",
   "execution_count": 3,
   "id": "roman-format",
   "metadata": {},
   "outputs": [],
   "source": [
    "import numpy as np"
   ]
  },
  {
   "cell_type": "code",
   "execution_count": 4,
   "id": "substantial-scanner",
   "metadata": {},
   "outputs": [],
   "source": [
    "english_score = np.array([55,89,76,65,48,70])\n",
    "math_score = np.array([60,85,60,68,np.nan,60])\n",
    "chinese_score = np.array([65,90,82,72,66,77])"
   ]
  },
  {
   "cell_type": "code",
   "execution_count": 12,
   "id": "afraid-maldives",
   "metadata": {},
   "outputs": [],
   "source": [
    "#1. 請計算各科成績平均、最大值、最小值、標準差，其中數學缺一筆資料可忽略?\n",
    "english_mean = np.mean(english_score)\n",
    "math_mean = np.nanmean(math_score)\n",
    "chinese_mean = np.mean(chinese_score)\n",
    "\n",
    "english_max = np.nanmax(english_score)\n",
    "math_max = np.nanmax(math_score)\n",
    "chinese_max = np.nanmax(chinese_score)\n",
    "\n",
    "english_min = np.nanmin(english_score)\n",
    "math_min = np.nanmin(math_score)\n",
    "chinese_min = np.nanmin(chinese_score)\n",
    "\n",
    "english_std = np.nanstd(english_score)\n",
    "math_std = np.nanstd(math_score)\n",
    "chinese_std = np.nanstd(chinese_score)\n"
   ]
  },
  {
   "cell_type": "code",
   "execution_count": 22,
   "id": "equal-suspect",
   "metadata": {},
   "outputs": [],
   "source": [
    "#2. 第五位同學補考數學後成績為55，請計算補考後數學成績平均、最大值、最小值、標準差?\n",
    "math_score[4] = 55\n",
    "math_mean = np.nanmean(math_score)\n",
    "math_max = np.nanmax(math_score)\n",
    "math_min = np.nanmin(math_score)\n",
    "math_std = np.nanstd(math_score)\n"
   ]
  },
  {
   "cell_type": "code",
   "execution_count": 24,
   "id": "hydraulic-preview",
   "metadata": {},
   "outputs": [
    {
     "name": "stdout",
     "output_type": "stream",
     "text": [
      "english\n"
     ]
    }
   ],
   "source": [
    "#3. 用補考後資料找出與國文成績相關係數最高的學科?\n",
    "a = np.corrcoef(chinese_score, math_score, rowvar=None)\n",
    "b = np.corrcoef(chinese_score, english_score, rowvar=None)\n",
    "if a[0,1] > b[0,1]:\n",
    "    print(\"math\")\n",
    "else:\n",
    "    print(\"english\")"
   ]
  }
 ],
 "metadata": {
  "kernelspec": {
   "display_name": "Python 3",
   "language": "python",
   "name": "python3"
  },
  "language_info": {
   "codemirror_mode": {
    "name": "ipython",
    "version": 3
   },
   "file_extension": ".py",
   "mimetype": "text/x-python",
   "name": "python",
   "nbconvert_exporter": "python",
   "pygments_lexer": "ipython3",
   "version": "3.9.0"
  }
 },
 "nbformat": 4,
 "nbformat_minor": 5
}
