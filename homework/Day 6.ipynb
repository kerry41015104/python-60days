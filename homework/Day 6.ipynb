{
 "cells": [
  {
   "cell_type": "code",
   "execution_count": 2,
   "id": "personalized-motorcycle",
   "metadata": {},
   "outputs": [],
   "source": [
    "import numpy as np"
   ]
  },
  {
   "cell_type": "code",
   "execution_count": 16,
   "id": "harmful-grounds",
   "metadata": {},
   "outputs": [],
   "source": [
    "#. 將下兩列array存成npz檔\n",
    "array1 = np.array(range(30))\n",
    "array2 = np.array([2,3,5])\n",
    "with open('array1.npy', 'wb') as f:\n",
    "    np.save(f, array1)\n",
    "with open('array2.npy', 'wb') as f:\n",
    "    np.save(f, array2)    "
   ]
  },
  {
   "cell_type": "code",
   "execution_count": 23,
   "id": "expanded-server",
   "metadata": {},
   "outputs": [
    {
     "name": "stdout",
     "output_type": "stream",
     "text": [
      "array1.npy: [ 0  1  2  3  4  5  6  7  8  9 10 11 12 13 14 15 16 17 18 19 20 21 22 23\n",
      " 24 25 26 27 28 29]\n",
      "array2.npy: [2 3 5]\n"
     ]
    }
   ],
   "source": [
    "#2. 讀取剛剛的npz檔，加入下列array一起存成新的npz檔\n",
    "with open('array1.npy', 'rb') as f:\n",
    "    a = np.load(f)\n",
    "with open('array2.npy', 'rb') as f:\n",
    "    b = np.load(f)    \n",
    "print(\"array1.npy: {}\".format(a))\n",
    "print(\"array2.npy: {}\".format(b))"
   ]
  },
  {
   "cell_type": "code",
   "execution_count": 27,
   "id": "dynamic-support",
   "metadata": {},
   "outputs": [
    {
     "name": "stdout",
     "output_type": "stream",
     "text": [
      "[ 0  1  2  3  4  5  6  7  8  9 10 11 12 13 14 15 16 17 18 19 20 21 22 23\n",
      " 24 25 26 27 28 29]\n",
      "[2 3 5]\n"
     ]
    }
   ],
   "source": [
    "with open('multi_array.npz', 'wb') as f:\n",
    "    np.savez(f, array1=a, array2=b)\n",
    "npzfile = np.load('multi_array.npz')\n",
    "print(npzfile['array1'])\n",
    "print(npzfile['array2'])"
   ]
  }
 ],
 "metadata": {
  "kernelspec": {
   "display_name": "Python 3",
   "language": "python",
   "name": "python3"
  },
  "language_info": {
   "codemirror_mode": {
    "name": "ipython",
    "version": 3
   },
   "file_extension": ".py",
   "mimetype": "text/x-python",
   "name": "python",
   "nbconvert_exporter": "python",
   "pygments_lexer": "ipython3",
   "version": "3.9.0"
  }
 },
 "nbformat": 4,
 "nbformat_minor": 5
}
