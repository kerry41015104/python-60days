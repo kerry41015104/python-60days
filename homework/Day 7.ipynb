{
 "cells": [
  {
   "cell_type": "code",
   "execution_count": 4,
   "id": "arbitrary-economics",
   "metadata": {},
   "outputs": [],
   "source": [
    "import numpy as np\n",
    "array1 = np.array([[10, 8], [3, 5]])"
   ]
  },
  {
   "cell_type": "code",
   "execution_count": 6,
   "id": "sapphire-formula",
   "metadata": {},
   "outputs": [
    {
     "data": {
      "text/plain": [
       "array([[1., 0.],\n",
       "       [0., 1.]])"
      ]
     },
     "execution_count": 6,
     "metadata": {},
     "output_type": "execute_result"
    }
   ],
   "source": [
    "#1. 運用上列array計算反矩陣，乘上原矩陣，並觀察是否為單位矩陣?\n",
    "array2=np.linalg.inv(array1)\n",
    "array1 @ array2"
   ]
  },
  {
   "cell_type": "code",
   "execution_count": 14,
   "id": "featured-lightweight",
   "metadata": {},
   "outputs": [
    {
     "name": "stdout",
     "output_type": "stream",
     "text": [
      "eigenvalues: [13.  2.]\n",
      "eigenvectors: [[ 0.93632918 -0.70710678]\n",
      " [ 0.35112344  0.70710678]]\n"
     ]
    }
   ],
   "source": [
    "#2. 運用上列array計算特徵值、特徵向量?\n",
    "w, v = np.linalg.eig(array1)\n",
    "print(\"eigenvalues: {}\".format(w))\n",
    "print(\"eigenvectors: {}\".format(v))"
   ]
  },
  {
   "cell_type": "code",
   "execution_count": 15,
   "id": "important-wrist",
   "metadata": {},
   "outputs": [
    {
     "data": {
      "text/plain": [
       "(array([[-0.91663818, -0.39971796],\n",
       "        [-0.39971796,  0.91663818]]),\n",
       " array([13.94721714,  1.86417116]),\n",
       " array([[-0.74319741, -0.6690722 ],\n",
       "        [-0.6690722 ,  0.74319741]]))"
      ]
     },
     "execution_count": 15,
     "metadata": {},
     "output_type": "execute_result"
    }
   ],
   "source": [
    "#3. 運用上列array計算SVD?\n",
    "np.linalg.svd(array1)"
   ]
  }
 ],
 "metadata": {
  "kernelspec": {
   "display_name": "Python 3",
   "language": "python",
   "name": "python3"
  },
  "language_info": {
   "codemirror_mode": {
    "name": "ipython",
    "version": 3
   },
   "file_extension": ".py",
   "mimetype": "text/x-python",
   "name": "python",
   "nbconvert_exporter": "python",
   "pygments_lexer": "ipython3",
   "version": "3.9.0"
  }
 },
 "nbformat": 4,
 "nbformat_minor": 5
}
